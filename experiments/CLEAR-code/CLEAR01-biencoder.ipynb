{
 "cells": [
  {
   "cell_type": "code",
   "execution_count": null,
   "metadata": {},
   "outputs": [],
   "source": [
    "from torch.utils.data import DataLoader\n",
    "from torch.utils.data import IterableDataset\n",
    "from sentence_transformers import SentenceTransformer, LoggingHandler, util, models, evaluation, losses, InputExample\n",
    "from tqdm.notebook import tqdm\n",
    "\n",
    "import numpy as np\n",
    "import pandas as pd\n",
    "\n",
    "import logging\n",
    "import os\n",
    "import glob\n",
    "import torch\n",
    "import json"
   ]
  },
  {
   "cell_type": "code",
   "execution_count": null,
   "metadata": {},
   "outputs": [],
   "source": [
    "logging.basicConfig(\n",
    "    format='- %(message)s',\n",
    "    datefmt='%Y-%m-%d %H:%M:%S',\n",
    "    level=logging.INFO,\n",
    "    handlers=[LoggingHandler()]\n",
    ")\n",
    "\n",
    "class TripletsDataset(IterableDataset):\n",
    "    def __init__(self, model, corpus, train_triplets):\n",
    "        self.model = model\n",
    "        self.corpus = corpus\n",
    "        self.train_triplets = train_triplets\n",
    "\n",
    "    def __iter__(self):\n",
    "        for triplet in self.train_triplets:\n",
    "            qid, pos_id, neg_id = triplet\n",
    "            query_text = self.corpus[str(qid)]\n",
    "            pos_text = self.corpus[str(pos_id)]\n",
    "            neg_text = self.corpus[str(neg_id)]\n",
    "\n",
    "            yield InputExample(texts=[query_text, pos_text, neg_text])\n",
    "\n",
    "    def __len__(self):\n",
    "        return len(self.train_triplets)\n",
    "    \n",
    "def get_triplets(Passage_dict):\n",
    "    triplets = []\n",
    "    for k, v in Passage_dict.items():\n",
    "        for x in v[0]:\n",
    "            for y in v[1]:\n",
    "                # query, same_api, diff_api\n",
    "                triplets.append([k, x, y])\n",
    "\n",
    "    return triplets\n",
    "\n"
   ]
  },
  {
   "cell_type": "code",
   "execution_count": null,
   "metadata": {},
   "outputs": [],
   "source": [
    "# hyperparam\n",
    "model_name = 'distilroberta-base'\n",
    "batch_size = 256\n",
    "model_save_path = 'models/bienc-exp7'\n",
    "pretrained = False\n",
    "data_folder = 'generated5'"
   ]
  },
  {
   "cell_type": "code",
   "execution_count": null,
   "metadata": {},
   "outputs": [],
   "source": [
    "with open(f'./data/{data_folder}/Corpus_dict.json', 'r') as f:\n",
    "    corpus = json.load(f)\n",
    "\n",
    "with open(f'./data/{data_folder}/Passage_dict.json', 'r') as f:\n",
    "    passage = json.load(f)\n",
    "\n",
    "df = pd.read_json(f'data/{data_folder}/dataset.json')\n",
    "df = df.set_index('index')\n",
    "\n",
    "# training data\n",
    "with open(f'./data/{data_folder}/train_queries.json', 'r') as f:\n",
    "    train_queries_idx = json.load(f)\n",
    "\n",
    "\n",
    "\n",
    "with open(f'./data/{data_folder}/train_passage.json', 'r') as f:\n",
    "    train_passage = json.load(f)\n",
    "\n",
    "with open(f'./data/{data_folder}/train_corpus.json', 'r') as f:\n",
    "    train_corpus = json.load(f)\n",
    "\n",
    "train_triplets = get_triplets(train_passage)"
   ]
  },
  {
   "cell_type": "code",
   "execution_count": null,
   "metadata": {},
   "outputs": [],
   "source": [
    "# evaluation data\n",
    "with open(f'./data/{data_folder}/evaluate_queries.json', 'r') as f:\n",
    "    val_queries_idx = json.load(f)\n",
    "\n",
    "with open(f'./data/{data_folder}/evaluate_rel_doc.json', 'r') as f:\n",
    "    val_rel_doc_raw = json.load(f)\n",
    "\n",
    "val_queries = {str(k): df.loc[int(k)]['Question Title'] for k in passage if int(k) in val_queries_idx}\n",
    "val_corpus = {}\n",
    "for rel_docs in val_rel_doc_raw.values():\n",
    "    # rel_docs is a single element list\n",
    "    for rel_doc in rel_docs[0]:\n",
    "        if not val_corpus.get(rel_doc):\n",
    "            val_corpus[str(rel_doc)] = df.loc[int(rel_doc)]['Question Title']\n",
    "\n",
    "val_rel_doc = {}\n",
    "for query, rel_doc in val_rel_doc_raw.items():\n",
    "    rel_doc = [str(r) for r in rel_doc[0]]\n",
    "    val_rel_doc[query] = set(rel_doc)"
   ]
  },
  {
   "cell_type": "code",
   "execution_count": null,
   "metadata": {},
   "outputs": [],
   "source": [
    "if pretrained:\n",
    "    model = SentenceTransformer(model_save_path)\n",
    "else:\n",
    "    word_embedding_model = models.Transformer(model_name, max_seq_length=350)\n",
    "    pooling_model = models.Pooling(word_embedding_model.get_word_embedding_dimension())\n",
    "    model = SentenceTransformer(modules=[word_embedding_model, pooling_model])"
   ]
  },
  {
   "cell_type": "code",
   "execution_count": null,
   "metadata": {},
   "outputs": [],
   "source": [
    "train_dataset = TripletsDataset(model=model, corpus=train_corpus, train_triplets=train_triplets)\n",
    "train_dataloader = DataLoader(train_dataset, shuffle=False, batch_size=batch_size)\n",
    "train_loss = losses.TripletLoss(model=model)\n",
    "ir_evaluator = evaluation.InformationRetrievalEvaluator(val_queries, val_corpus, val_rel_doc, name='distilroberta-train_eval')"
   ]
  },
  {
   "cell_type": "code",
   "execution_count": null,
   "metadata": {},
   "outputs": [],
   "source": [
    "model.evaluate(evaluator=ir_evaluator)"
   ]
  },
  {
   "cell_type": "code",
   "execution_count": null,
   "metadata": {},
   "outputs": [],
   "source": [
    "warmup_steps = int(len(train_dataloader) * 5 * 0.1)\n",
    "model.fit(\n",
    "    train_objectives=[(train_dataloader, train_loss)],\n",
    "    evaluator=ir_evaluator,\n",
    "    epochs=12,\n",
    "    warmup_steps=warmup_steps,\n",
    "    output_path=model_save_path,\n",
    "    evaluation_steps=750,\n",
    "    save_best_model=True,\n",
    "    use_amp=True\n",
    ")"
   ]
  },
  {
   "cell_type": "code",
   "execution_count": null,
   "metadata": {},
   "outputs": [],
   "source": [
    "results = model.evaluate(evaluator=ir_evaluator)"
   ]
  },
  {
   "cell_type": "code",
   "execution_count": null,
   "metadata": {},
   "outputs": [],
   "source": [
    "del model\n",
    "torch.cuda.empty_cache()"
   ]
  },
  {
   "cell_type": "code",
   "execution_count": null,
   "metadata": {},
   "outputs": [],
   "source": [
    "model_paths = sorted(glob.glob('./models/bi*'))\n",
    "for model_path in model_paths:\n",
    "    experiment = os.path.basename(model_path)\n",
    "    model = SentenceTransformer(model_path)\n",
    "    map100 = model.evaluate(evaluator=ir_evaluator)\n",
    "    print(f'Experiment {experiment}: {map100:.3f}')\n",
    "    del model\n",
    "    torch.cuda.empty_cache()"
   ]
  },
  {
   "cell_type": "code",
   "execution_count": null,
   "metadata": {},
   "outputs": [],
   "source": [
    "with open(f'./data/{data_folder}/val_passage.json', 'r') as f:\n",
    "    val_passage = json.load(f)\n",
    "\n",
    "with open(f'./data/{data_folder}/val_corpus.json', 'r') as f:\n",
    "    val_corpus = json.load(f)\n",
    "\n",
    "val_triplets = get_triplets(val_passage)"
   ]
  },
  {
   "cell_type": "code",
   "execution_count": null,
   "metadata": {},
   "outputs": [],
   "source": [
    "queries = []\n",
    "poss = []\n",
    "negs = []\n",
    "for triplet in tqdm(val_triplets):\n",
    "    query = df.loc[int(triplet[0])]['Question Title']\n",
    "    pos = df.loc[triplet[1]]['Question Title']\n",
    "    neg = df.loc[triplet[2]]['Question Title']\n",
    "\n",
    "    queries.append(query)\n",
    "    poss.append(pos)\n",
    "    negs.append(neg)"
   ]
  },
  {
   "cell_type": "code",
   "execution_count": null,
   "metadata": {},
   "outputs": [],
   "source": [
    "q_embs = model.encode(queries, batch_size=1024, show_progress_bar=True)\n",
    "p_embs = model.encode(poss, batch_size=1024, show_progress_bar=True)\n",
    "n_embs = model.encode(negs, batch_size=1024, show_progress_bar=True)"
   ]
  },
  {
   "cell_type": "code",
   "execution_count": null,
   "metadata": {},
   "outputs": [],
   "source": [
    "positives = []\n",
    "negatives = []\n",
    "for q, p, n in tqdm(zip(q_embs, p_embs, n_embs), total=len(q_embs)):\n",
    "    p_cos = util.pytorch_cos_sim(q, p).numpy()[0]\n",
    "    n_cos = util.pytorch_cos_sim(q, n).numpy()[0]\n",
    "    positives.append(p_cos)\n",
    "    negatives.append(n_cos)\n",
    "\n",
    "print(f'Pos mean: {np.mean(positives):.3f} Neg mean: {np.mean(negatives):.3f}')\n",
    "print(f'Pos std: {np.std(positives):.3f} Neg std: {np.std(negatives):.3f}')"
   ]
  },
  {
   "cell_type": "code",
   "execution_count": null,
   "metadata": {},
   "outputs": [],
   "source": []
  }
 ],
 "metadata": {
  "kernelspec": {
   "display_name": "transformer",
   "language": "python",
   "name": "python3"
  },
  "language_info": {
   "codemirror_mode": {
    "name": "ipython",
    "version": 3
   },
   "file_extension": ".py",
   "mimetype": "text/x-python",
   "name": "python",
   "nbconvert_exporter": "python",
   "pygments_lexer": "ipython3",
   "version": "3.10.12"
  },
  "orig_nbformat": 4
 },
 "nbformat": 4,
 "nbformat_minor": 2
}
